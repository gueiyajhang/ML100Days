{
 "cells": [
  {
   "cell_type": "markdown",
   "metadata": {},
   "source": [
    "## 作業目標：運用課程所學，操作字串達到預期輸出"
   ]
  },
  {
   "cell_type": "markdown",
   "metadata": {},
   "source": [
    "* 自行尋找一篇超過100字的文章\n",
    "    * 首先運用結巴斷詞，自行新增字典使得斷詞更為正確\n",
    "    * 使用jieba 完成 PoS Taggin\n",
    "    * 新增的詞也必須賦予詞性"
   ]
  },
  {
   "cell_type": "markdown",
   "metadata": {},
   "source": [
    "---"
   ]
  },
  {
   "cell_type": "code",
   "execution_count": 12,
   "metadata": {},
   "outputs": [],
   "source": [
    "import jieba\n",
    "import jieba.posseg as pseg\n",
    "jieba.set_dictionary('課程練習/dict.txt')"
   ]
  },
  {
   "cell_type": "markdown",
   "metadata": {},
   "source": [
    "---"
   ]
  },
  {
   "cell_type": "code",
   "execution_count": 13,
   "metadata": {},
   "outputs": [],
   "source": [
    "sentence = '''這是敘述近年來，AI 應用已無所不在，不論在新創或是傳產領域，都可能透過機器學習解決過去難以解決的問題。但目前台灣企業在 AI 導入的腳步仍然緩慢，除了人才嚴重短缺，教育資源無法即時跟上產業變異也是原因之一。因此，我們發起了「 機器學習 百日馬拉松 」教練陪跑計劃，翻轉傳統上課模式，以自主練習為主，幫助你獲得最大學習成效，搶先一步進入 AI 人工智能領域。'''"
   ]
  },
  {
   "cell_type": "code",
   "execution_count": 14,
   "metadata": {},
   "outputs": [
    {
     "data": {
      "text/plain": [
       "'這是敘述近年來，AI 應用已無所不在，不論在新創或是傳產領域，都可能透過機器學習解決過去難以解決的問題。但目前台灣企業在 AI 導入的腳步仍然緩慢，除了人才嚴重短缺，教育資源無法即時跟上產業變異也是原因之一。因此，我們發起了「 機器學習 百日馬拉松 」教練陪跑計劃，翻轉傳統上課模式，以自主練習為主，幫助你獲得最大學習成效，搶先一步進入 AI 人工智能領域。'"
      ]
     },
     "execution_count": 14,
     "metadata": {},
     "output_type": "execute_result"
    }
   ],
   "source": [
    "sentence"
   ]
  },
  {
   "cell_type": "code",
   "execution_count": 15,
   "metadata": {},
   "outputs": [
    {
     "name": "stderr",
     "output_type": "stream",
     "text": [
      "Building prefix dict from C:\\Users\\Queiy\\Documents\\NLP_ML100Days\\ML100Days\\solution\\Day011\\課程練習\\dict.txt ...\n",
      "Loading model from cache C:\\Users\\Queiy\\AppData\\Local\\Temp\\jieba.u2f35228de4d8d5fea6412d391c7eaa4d.cache\n",
      "Loading model cost 0.577 seconds.\n",
      "Prefix dict has been built succesfully.\n"
     ]
    },
    {
     "name": "stdout",
     "output_type": "stream",
     "text": [
      "這是|敘述|近年|來|，|AI| |應用|已|無所不在|，|不論|在|新創|或是|傳產|領域|，|都|可能|透過|機器|學習|解決|過去|難以|解決|的|問題|。|但|目前|台灣|企業|在| |AI| |導入|的|腳步|仍然|緩慢|，|除了|人才|嚴重|短缺|，|教育|資源|無法|即時|跟上|產業|變異|也|是|原因|之|一|。|因此|，|我們|發起|了|「| |機器|學習| |百日|馬拉松| |」|教練|陪跑|計劃|，|翻轉|傳統|上課|模式|，|以|自主|練習|為主|，|幫助|你|獲得|最|大|學習|成效|，|搶先|一步|進入| |AI| |人工|智能|領域|。\n"
     ]
    }
   ],
   "source": [
    "print('|'.join(jieba.cut(sentence, HMM=False)))"
   ]
  },
  {
   "cell_type": "markdown",
   "metadata": {},
   "source": [
    "## 新增字典"
   ]
  },
  {
   "cell_type": "code",
   "execution_count": 17,
   "metadata": {},
   "outputs": [
    {
     "name": "stdout",
     "output_type": "stream",
     "text": [
      "output 精確模式: 精通|各|種|程式|語言|是|一|件|相當|困難|的|事情\n",
      "output 精確模式: 精通|各|種|程式語言|是|一|件|相當|困難|的|事情\n",
      "output 精確模式: 精通|各|種|程式語言|是|一|件|相當|困難|的|事情\n"
     ]
    }
   ],
   "source": [
    "new_words = \"精通各種程式語言是一件相當困難的事情\"\n",
    "print(\"output 精確模式: {}\".format('|'.join(jieba.cut(new_words, cut_all=False, HMM=False))))\n",
    "jieba.add_word('程式語言')\n",
    "print(\"output 精確模式: {}\".format('|'.join(jieba.cut(new_words, cut_all=False, HMM=False))))"
   ]
  },
  {
   "cell_type": "code",
   "execution_count": 36,
   "metadata": {},
   "outputs": [
    {
     "name": "stdout",
     "output_type": "stream",
     "text": [
      "output 精確模式: 這是|敘述|近年|來|，|AI| |應用|已|無所不在|，|不論|在|新創|或是|傳產|領域|，|都|可能|透過|機器|學習|解決|過去|難以|解決|的|問題|。|但|目前|台灣|企業|在| |AI| |導入|的|腳步|仍然|緩慢|，|除了|人才|嚴重|短缺|，|教育|資源|無法|即時|跟上|產業|變異|也|是|原因|之|一|。|因此|，|我們|發起|了|「| |機器|學習| |百日|馬拉松| |」|教練|陪跑|計劃|，|翻轉|傳統|上課|模式|，|以|自主|練習|為主|，|幫助|你|獲得|最|大|學習|成效|，|搶先|一步|進入| |AI| |人工|智能|領域|。\n",
      "output 精確模式: 這是|敘述|近年|來|，|AI| |應用|已|無所不在|，|不論|在|新創|或是|傳產|領域|，|都|可能|透過|機器|學習|解決|過去|難以|解決|的|問題|。|但|目前|台灣|企業|在| |AI| |導入|的|腳步|仍然|緩慢|，|除了|人才|嚴重|短缺|，|教育|資源|無法|即時|跟上|產業|變異|也|是|原因|之|一|。|因此|，|我們|發起|了|「| |機器|學習| |百日|馬拉松| |」|教練|陪跑|計劃|，|翻轉|傳統|上課|模式|，|以|自主|練習|為主|，|幫助|你|獲得|最|大|學習|成效|，|搶先|一步|進入| |AI| |人工|智能|領域|。\n"
     ]
    }
   ],
   "source": [
    "## 新增單詞 ，格式：每行包含一個單詞 詞頻(可省略) 詞性(可省略)\n",
    "adding = '程式語言\\nCupoy平台\\n自然語言處理'\n",
    "with open('adding.txt', 'w', encoding='UTF-8') as file:\n",
    "\tfile.write(adding)\n",
    "sentence_1 = \"我在Cupoy平台上學習自然語言處理\"\n",
    "print(\"output 精確模式: {}\".format('|'.join(jieba.cut(sentence, cut_all=False, HMM=False))))\n",
    "## 讀入字典\n",
    "jieba.load_userdict('adding.txt')\n",
    "sentence_1 = \"我在Cupoy平台上學習自然語言處理\"\n",
    "print(\"output 精確模式: {}\".format('|'.join(jieba.cut(sentence, cut_all=False, HMM=False))))"
   ]
  },
  {
   "cell_type": "code",
   "execution_count": 11,
   "metadata": {},
   "outputs": [
    {
     "name": "stdout",
     "output_type": "stream",
     "text": [
      "output 精確模式: 這是|敘述|近年|來|，|AI| |應用|已|無所不在|，|不論|在|新創|或是|傳產|領域|，|都|可能|透過|機器學習|解決|過去|難以|解決|的|問題|。|但|目前|台灣|企業|在| |AI| |導入|的|腳步|仍然|緩慢|，|除了|人才|嚴重|短缺|，|教育|資源|無法|即時|跟上|產業|變異|也|是|原因|之|一|。|因此|，|我們|發起|了|「| |機器學習| |百日馬拉松| |」|教練陪跑計劃|，|翻轉|傳統|上課|模式|，|以|自主|練習|為主|，|幫助|你|獲得|最|大|學習|成效|，|搶先|一步|進入| |AI| |人工智能|領域|。\n"
     ]
    }
   ],
   "source": [
    "print(\"output 精確模式: {}\".format('|'.join(jieba.cut(sentence, cut_all=False, HMM=False))))"
   ]
  },
  {
   "cell_type": "code",
   "execution_count": 39,
   "metadata": {},
   "outputs": [
    {
     "name": "stdout",
     "output_type": "stream",
     "text": [
      "word: Google,        start:0, end:6\n",
      "word:  ,        start:6, end:7\n",
      "word: Colab,        start:7, end:12\n",
      "word: 是,        start:12, end:13\n",
      "word: Google,        start:13, end:19\n",
      "word: 所,        start:19, end:20\n",
      "word: 開發,        start:20, end:22\n",
      "word: 類似,        start:22, end:24\n",
      "word: Jupyter,        start:24, end:31\n",
      "word:  ,        start:31, end:32\n",
      "word: Notebook,        start:32, end:40\n",
      "word: 的,        start:40, end:41\n",
      "word: Python,        start:41, end:47\n",
      "word: 線上,        start:47, end:49\n",
      "word: 執行,        start:49, end:51\n",
      "word: 環境,        start:51, end:53\n",
      "word: ，,        start:53, end:54\n",
      "word: 它,        start:54, end:55\n",
      "word: 整合,        start:55, end:57\n",
      "word: 於,        start:57, end:58\n",
      "word: Google,        start:58, end:64\n",
      "word:  ,        start:64, end:65\n",
      "word: Drive,        start:65, end:70\n",
      "word: 中,        start:70, end:71\n",
      "word: ，,        start:71, end:72\n",
      "word: 以,        start:72, end:73\n",
      "word: 外掛,        start:73, end:75\n",
      "word: 的,        start:75, end:76\n",
      "word: 形式,        start:76, end:78\n",
      "word: 存在,        start:78, end:80\n",
      "word: ，,        start:80, end:81\n",
      "word: 當,        start:81, end:82\n",
      "word: 我們,        start:82, end:84\n",
      "word: 啟用,        start:84, end:86\n",
      "word: 了,        start:86, end:87\n",
      "word: Google,        start:87, end:93\n",
      "word:  ,        start:93, end:94\n",
      "word: Colab,        start:94, end:99\n",
      "word: 的,        start:99, end:100\n",
      "word: 外掛,        start:100, end:102\n",
      "word: ，,        start:102, end:103\n",
      "word: 就,        start:103, end:104\n",
      "word: 能夠,        start:104, end:106\n",
      "word: 在,        start:106, end:107\n",
      "word: Google,        start:107, end:113\n",
      "word:  ,        start:113, end:114\n",
      "word: Drive,        start:114, end:119\n",
      "word: 中,        start:119, end:120\n",
      "word: 建立,        start:120, end:122\n",
      "word: Notebook,        start:122, end:130\n",
      "word: ，,        start:130, end:131\n",
      "word: 開始,        start:131, end:133\n",
      "word: 執行,        start:133, end:135\n",
      "word: 我們,        start:135, end:137\n",
      "word: 的,        start:137, end:138\n",
      "word: Python,        start:138, end:144\n",
      "word: 程式碼,        start:144, end:147\n",
      "word: 。,        start:147, end:148\n"
     ]
    }
   ],
   "source": [
    "sentence_2 = \"Google Colab是Google所開發類似Jupyter Notebook的Python線上執行環境，它整合於Google Drive中，以外掛的形式存在，當我們啟用了Google Colab的外掛，就能夠在Google Drive中建立Notebook，開始執行我們的Python程式碼。\"\n",
    "words = jieba.tokenize(sentence_2,)\n",
    "for tk in words:\n",
    "\tprint(\"word: {},        start:{}, end:{}\".format(tk[0],tk[1],tk[2]))"
   ]
  },
  {
   "cell_type": "markdown",
   "metadata": {},
   "source": [
    "## Taggin"
   ]
  },
  {
   "cell_type": "code",
   "execution_count": 40,
   "metadata": {},
   "outputs": [
    {
     "name": "stdout",
     "output_type": "stream",
     "text": [
      "這是 x\n",
      "敘述 x\n",
      "近年 t\n",
      "來 zg\n",
      "， x\n",
      "AI eng\n",
      "  x\n",
      "應用 x\n",
      "已 d\n",
      "無所不在 x\n",
      "， x\n",
      "不論 x\n",
      "在 p\n",
      "新創 x\n",
      "或是 c\n",
      "傳產 x\n",
      "領域 x\n",
      "， x\n",
      "都 d\n",
      "可能 v\n",
      "透過 x\n",
      "機器 x\n",
      "學習 x\n",
      "解決 x\n",
      "過去 x\n",
      "難以 x\n",
      "解決 x\n",
      "的 uj\n",
      "問題 x\n",
      "。 x\n",
      "但 c\n",
      "目前 t\n",
      "台灣 x\n",
      "企業 x\n",
      "在 p\n",
      "  x\n",
      "AI eng\n",
      "  x\n",
      "導入 x\n",
      "的 uj\n",
      "腳步 x\n",
      "仍然 d\n",
      "緩慢 x\n",
      "， x\n",
      "除了 p\n",
      "人才 n\n",
      "嚴重 x\n",
      "短缺 a\n",
      "， x\n",
      "教育 vn\n",
      "資源 x\n",
      "無法 x\n",
      "即時 x\n",
      "跟上 f\n",
      "產業 x\n",
      "變異 x\n",
      "也 d\n",
      "是 v\n",
      "原因 n\n",
      "之一 r\n",
      "。 x\n",
      "因此 c\n",
      "， x\n",
      "我們 x\n",
      "發起 x\n",
      "了 ul\n",
      "「 x\n",
      "  x\n",
      "機器 x\n",
      "學習 x\n",
      "  x\n",
      "百日 m\n",
      "馬拉松 x\n",
      "  x\n",
      "」 x\n",
      "教練 x\n",
      "陪跑 x\n",
      "計劃 x\n",
      "， x\n",
      "翻轉 x\n",
      "傳統 x\n",
      "上課 x\n",
      "模式 n\n",
      "， x\n",
      "以 p\n",
      "自主 v\n",
      "練習 x\n",
      "為主 x\n",
      "， x\n",
      "幫助 x\n",
      "你 r\n",
      "獲得 x\n",
      "最 d\n",
      "大 a\n",
      "學習 x\n",
      "成效 a\n",
      "， x\n",
      "搶先 x\n",
      "一步 m\n",
      "進入 x\n",
      "  x\n",
      "AI eng\n",
      "  x\n",
      "人工 n\n",
      "智能 n\n",
      "領域 x\n",
      "。 x\n"
     ]
    }
   ],
   "source": [
    "words = pseg.cut(sentence,)\n",
    "for word, flag in words:\n",
    "    print(word, flag)"
   ]
  },
  {
   "cell_type": "code",
   "execution_count": null,
   "metadata": {},
   "outputs": [],
   "source": []
  }
 ],
 "metadata": {
  "kernelspec": {
   "display_name": "Python 3",
   "language": "python",
   "name": "python3"
  },
  "language_info": {
   "codemirror_mode": {
    "name": "ipython",
    "version": 3
   },
   "file_extension": ".py",
   "mimetype": "text/x-python",
   "name": "python",
   "nbconvert_exporter": "python",
   "pygments_lexer": "ipython3",
   "version": "3.7.4"
  }
 },
 "nbformat": 4,
 "nbformat_minor": 4
}
