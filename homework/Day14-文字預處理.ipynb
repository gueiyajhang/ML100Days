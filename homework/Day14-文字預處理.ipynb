{
  "nbformat": 4,
  "nbformat_minor": 0,
  "metadata": {
    "kernelspec": {
      "display_name": "Python 3",
      "language": "python",
      "name": "python3"
    },
    "language_info": {
      "codemirror_mode": {
        "name": "ipython",
        "version": 3
      },
      "file_extension": ".py",
      "mimetype": "text/x-python",
      "name": "python",
      "nbconvert_exporter": "python",
      "pygments_lexer": "ipython3",
      "version": "3.7.4"
    },
    "colab": {
      "name": "Day14_作業.ipynb",
      "provenance": [],
      "collapsed_sections": [],
      "toc_visible": true
    }
  },
  "cells": [
    {
      "cell_type": "markdown",
      "metadata": {
        "id": "ifetPztGHIyC"
      },
      "source": [
        "## 本日課程-文字預處理，部分內容前面章節可能提過，這裡會將前處理所需技巧串起"
      ]
    },
    {
      "cell_type": "code",
      "metadata": {
        "colab": {
          "base_uri": "https://localhost:8080/"
        },
        "id": "1D8nM_R9HIyJ",
        "outputId": "69bdd1cd-c5f5-4ad3-f78f-cd50a22867a5"
      },
      "source": [
        "import numpy as np \n",
        "import pandas as pd\n",
        "import matplotlib.pyplot as plt\n",
        "from sklearn.metrics import confusion_matrix\n",
        "from nltk.corpus import stopwords\n",
        "nltk.download('punkt')\n",
        "#tsv是指用tab分開字元的檔案\n",
        "dataset=pd.read_csv('movie_feedback.csv', header=None, encoding='Big5')\n",
        "X = dataset[0].values\n",
        "Y = dataset[1].values"
      ],
      "execution_count": 73,
      "outputs": [
        {
          "output_type": "stream",
          "text": [
            "[nltk_data] Downloading package punkt to /root/nltk_data...\n",
            "[nltk_data]   Package punkt is already up-to-date!\n"
          ],
          "name": "stdout"
        }
      ]
    },
    {
      "cell_type": "code",
      "metadata": {
        "colab": {
          "base_uri": "https://localhost:8080/",
          "height": 415
        },
        "id": "7Bm_7iJjHIyK",
        "outputId": "0cc8031d-f960-47d1-b293-08664dc456b3"
      },
      "source": [
        "dataset"
      ],
      "execution_count": 74,
      "outputs": [
        {
          "output_type": "execute_result",
          "data": {
            "text/html": [
              "<div>\n",
              "<style scoped>\n",
              "    .dataframe tbody tr th:only-of-type {\n",
              "        vertical-align: middle;\n",
              "    }\n",
              "\n",
              "    .dataframe tbody tr th {\n",
              "        vertical-align: top;\n",
              "    }\n",
              "\n",
              "    .dataframe thead th {\n",
              "        text-align: right;\n",
              "    }\n",
              "</style>\n",
              "<table border=\"1\" class=\"dataframe\">\n",
              "  <thead>\n",
              "    <tr style=\"text-align: right;\">\n",
              "      <th></th>\n",
              "      <th>0</th>\n",
              "      <th>1</th>\n",
              "    </tr>\n",
              "  </thead>\n",
              "  <tbody>\n",
              "    <tr>\n",
              "      <th>0</th>\n",
              "      <td>the rock is destined to be the 21st century's ...</td>\n",
              "      <td>1</td>\n",
              "    </tr>\n",
              "    <tr>\n",
              "      <th>1</th>\n",
              "      <td>the gorgeously elaborate continuation of \" the...</td>\n",
              "      <td>1</td>\n",
              "    </tr>\n",
              "    <tr>\n",
              "      <th>2</th>\n",
              "      <td>effective but too-tepid biopic</td>\n",
              "      <td>1</td>\n",
              "    </tr>\n",
              "    <tr>\n",
              "      <th>3</th>\n",
              "      <td>if you sometimes like to go to the movies to h...</td>\n",
              "      <td>1</td>\n",
              "    </tr>\n",
              "    <tr>\n",
              "      <th>4</th>\n",
              "      <td>emerges as something rare , an issue movie tha...</td>\n",
              "      <td>1</td>\n",
              "    </tr>\n",
              "    <tr>\n",
              "      <th>...</th>\n",
              "      <td>...</td>\n",
              "      <td>...</td>\n",
              "    </tr>\n",
              "    <tr>\n",
              "      <th>10657</th>\n",
              "      <td>a terrible movie that some people will neverth...</td>\n",
              "      <td>0</td>\n",
              "    </tr>\n",
              "    <tr>\n",
              "      <th>10658</th>\n",
              "      <td>there are many definitions of 'time waster' bu...</td>\n",
              "      <td>0</td>\n",
              "    </tr>\n",
              "    <tr>\n",
              "      <th>10659</th>\n",
              "      <td>as it stands , crocodile hunter has the hurrie...</td>\n",
              "      <td>0</td>\n",
              "    </tr>\n",
              "    <tr>\n",
              "      <th>10660</th>\n",
              "      <td>the thing looks like a made-for-home-video qui...</td>\n",
              "      <td>0</td>\n",
              "    </tr>\n",
              "    <tr>\n",
              "      <th>10661</th>\n",
              "      <td>enigma is well-made , but it's just too dry an...</td>\n",
              "      <td>0</td>\n",
              "    </tr>\n",
              "  </tbody>\n",
              "</table>\n",
              "<p>10662 rows × 2 columns</p>\n",
              "</div>"
            ],
            "text/plain": [
              "                                                       0  1\n",
              "0      the rock is destined to be the 21st century's ...  1\n",
              "1      the gorgeously elaborate continuation of \" the...  1\n",
              "2                         effective but too-tepid biopic  1\n",
              "3      if you sometimes like to go to the movies to h...  1\n",
              "4      emerges as something rare , an issue movie tha...  1\n",
              "...                                                  ... ..\n",
              "10657  a terrible movie that some people will neverth...  0\n",
              "10658  there are many definitions of 'time waster' bu...  0\n",
              "10659  as it stands , crocodile hunter has the hurrie...  0\n",
              "10660  the thing looks like a made-for-home-video qui...  0\n",
              "10661  enigma is well-made , but it's just too dry an...  0\n",
              "\n",
              "[10662 rows x 2 columns]"
            ]
          },
          "metadata": {
            "tags": []
          },
          "execution_count": 74
        }
      ]
    },
    {
      "cell_type": "markdown",
      "metadata": {
        "id": "o-OhAo1HHIyL"
      },
      "source": [
        "---"
      ]
    },
    {
      "cell_type": "code",
      "metadata": {
        "colab": {
          "base_uri": "https://localhost:8080/"
        },
        "id": "8mL9IUmPHIyL",
        "outputId": "52877bc1-3380-420d-da35-3918cf69a4a9"
      },
      "source": [
        "print('review before preprocessing : {}'.format(X[0]))"
      ],
      "execution_count": 75,
      "outputs": [
        {
          "output_type": "stream",
          "text": [
            "review before preprocessing : the rock is destined to be the 21st century's new \" conan \" and that he's going to make a splash even greater than arnold schwarzenegger , jean-claud van damme or steven segal . \n"
          ],
          "name": "stdout"
        }
      ]
    },
    {
      "cell_type": "markdown",
      "metadata": {
        "id": "BIPYN7PHHIyM"
      },
      "source": [
        "## 運用re.sub去除部分字元"
      ]
    },
    {
      "cell_type": "code",
      "metadata": {
        "id": "zmC8ugE5HIyM"
      },
      "source": [
        "import re \n",
        "# 去除a-zA-Z以外的字元，並將他們取代為空格' '\n",
        "review=re.sub('[^a-zA-Z]',' ',X[0])"
      ],
      "execution_count": 76,
      "outputs": []
    },
    {
      "cell_type": "code",
      "metadata": {
        "colab": {
          "base_uri": "https://localhost:8080/"
        },
        "id": "Y_OUd0ZuHIyM",
        "outputId": "20c25640-cc4b-43d3-b6da-02a5b914d628"
      },
      "source": [
        "print('review after re.sub : {}'.format(review))"
      ],
      "execution_count": 77,
      "outputs": [
        {
          "output_type": "stream",
          "text": [
            "review after re.sub : the rock is destined to be the   st century s new   conan   and that he s going to make a splash even greater than arnold schwarzenegger   jean claud van damme or steven segal   \n"
          ],
          "name": "stdout"
        }
      ]
    },
    {
      "cell_type": "markdown",
      "metadata": {
        "id": "Ftw2nLvdHIyM"
      },
      "source": [
        "## 將所有字母轉為小寫:因為大部分情境區分大小寫並不能提供而外訊息，如CV內顏色無法提供額外訊息時我們會將圖像轉為灰階，藉此降低複雜度"
      ]
    },
    {
      "cell_type": "code",
      "metadata": {
        "colab": {
          "base_uri": "https://localhost:8080/"
        },
        "id": "wXzirKkKHIyN",
        "outputId": "3b0e449a-a7ae-426c-c175-b7de79b42693"
      },
      "source": [
        "#把全部變成小寫\n",
        "review=review.lower()\n",
        "print('review after lower : {}'.format(review))"
      ],
      "execution_count": 78,
      "outputs": [
        {
          "output_type": "stream",
          "text": [
            "review after lower : the rock is destined to be the   st century s new   conan   and that he s going to make a splash even greater than arnold schwarzenegger   jean claud van damme or steven segal   \n"
          ],
          "name": "stdout"
        }
      ]
    },
    {
      "cell_type": "markdown",
      "metadata": {
        "id": "Ptwxu_TGHIyN"
      },
      "source": [
        "## 斷詞"
      ]
    },
    {
      "cell_type": "code",
      "metadata": {
        "colab": {
          "base_uri": "https://localhost:8080/"
        },
        "id": "WDJoqhUVHIyN",
        "outputId": "753ae122-d931-4e87-a115-65067b6caadd"
      },
      "source": [
        "import nltk\n",
        "#把review裡面的單字切開\n",
        "print('review after split : {}'.format(review.split()))"
      ],
      "execution_count": 79,
      "outputs": [
        {
          "output_type": "stream",
          "text": [
            "review after split : ['the', 'rock', 'is', 'destined', 'to', 'be', 'the', 'st', 'century', 's', 'new', 'conan', 'and', 'that', 'he', 's', 'going', 'to', 'make', 'a', 'splash', 'even', 'greater', 'than', 'arnold', 'schwarzenegger', 'jean', 'claud', 'van', 'damme', 'or', 'steven', 'segal']\n"
          ],
          "name": "stdout"
        }
      ]
    },
    {
      "cell_type": "markdown",
      "metadata": {
        "id": "CEw_I4FxHIyO"
      },
      "source": [
        "* tokenize 相較於split會是更好的選擇，如 split 無法分開 word. 這種case"
      ]
    },
    {
      "cell_type": "code",
      "metadata": {
        "colab": {
          "base_uri": "https://localhost:8080/"
        },
        "id": "KBPnvgn-HIyO",
        "outputId": "ea196b83-5353-4501-edb2-0d27ab53ac3a"
      },
      "source": [
        "review = nltk.word_tokenize(review)\n",
        "print('review after tokenize : {}'.format(review))"
      ],
      "execution_count": 80,
      "outputs": [
        {
          "output_type": "stream",
          "text": [
            "review after tokenize : ['the', 'rock', 'is', 'destined', 'to', 'be', 'the', 'st', 'century', 's', 'new', 'conan', 'and', 'that', 'he', 's', 'going', 'to', 'make', 'a', 'splash', 'even', 'greater', 'than', 'arnold', 'schwarzenegger', 'jean', 'claud', 'van', 'damme', 'or', 'steven', 'segal']\n"
          ],
          "name": "stdout"
        }
      ]
    },
    {
      "cell_type": "markdown",
      "metadata": {
        "id": "navZ67vXHIyP"
      },
      "source": [
        "## stopwords: 移除贅字，此步驟為前處理的重要步驟之一，過多的贅字不僅無法提供更多訊息，還會干擾到模型的訓練"
      ]
    },
    {
      "cell_type": "code",
      "metadata": {
        "colab": {
          "base_uri": "https://localhost:8080/"
        },
        "id": "6QoA8oXcHIyP",
        "outputId": "f6ef4ca0-215b-404a-d341-0687ca18b809"
      },
      "source": [
        "#處理文字，有建立好的文字褲會幫我們移除不想要的文字\n",
        "import nltk\n",
        "nltk.download('stopwords')"
      ],
      "execution_count": 81,
      "outputs": [
        {
          "output_type": "stream",
          "text": [
            "[nltk_data] Downloading package stopwords to /root/nltk_data...\n",
            "[nltk_data]   Package stopwords is already up-to-date!\n"
          ],
          "name": "stdout"
        },
        {
          "output_type": "execute_result",
          "data": {
            "text/plain": [
              "True"
            ]
          },
          "metadata": {
            "tags": []
          },
          "execution_count": 81
        }
      ]
    },
    {
      "cell_type": "code",
      "metadata": {
        "colab": {
          "base_uri": "https://localhost:8080/"
        },
        "id": "V_ZWhdTUHIyQ",
        "outputId": "d4fe43b8-a7c9-4901-fee1-67caa2fbab50"
      },
      "source": [
        "review=[word for word in review if not word in set(stopwords.words('english'))]\n",
        "print('review after removeing stopwords : {}'.format(review))"
      ],
      "execution_count": 82,
      "outputs": [
        {
          "output_type": "stream",
          "text": [
            "review after removeing stopwords : ['rock', 'destined', 'st', 'century', 'new', 'conan', 'going', 'make', 'splash', 'even', 'greater', 'arnold', 'schwarzenegger', 'jean', 'claud', 'van', 'damme', 'steven', 'segal']\n"
          ],
          "name": "stdout"
        }
      ]
    },
    {
      "cell_type": "markdown",
      "metadata": {
        "id": "n0hTsn-sHIyQ"
      },
      "source": [
        "## Stemming: 詞幹提取\n",
        " * ex. loves,loved都變成love\n",
        " * 中文沒有詞幹提取的需求"
      ]
    },
    {
      "cell_type": "code",
      "metadata": {
        "id": "nsVXAEYnHIyQ"
      },
      "source": [
        "from nltk.stem.porter import PorterStemmer\n",
        "ps=PorterStemmer()\n",
        "review=[ps.stem(word) for word in review]"
      ],
      "execution_count": 83,
      "outputs": []
    },
    {
      "cell_type": "code",
      "metadata": {
        "colab": {
          "base_uri": "https://localhost:8080/"
        },
        "id": "vE-EYl3kHIyR",
        "outputId": "a72962ea-3751-43c2-9fb0-55d2ec319019"
      },
      "source": [
        "print('review after stemming : {}'.format(review))"
      ],
      "execution_count": 84,
      "outputs": [
        {
          "output_type": "stream",
          "text": [
            "review after stemming : ['rock', 'destin', 'st', 'centuri', 'new', 'conan', 'go', 'make', 'splash', 'even', 'greater', 'arnold', 'schwarzenegg', 'jean', 'claud', 'van', 'damm', 'steven', 'segal']\n"
          ],
          "name": "stdout"
        }
      ]
    },
    {
      "cell_type": "markdown",
      "metadata": {
        "id": "mdbUZ-7ZHIyR"
      },
      "source": [
        "## 練習清理所有的句子"
      ]
    },
    {
      "cell_type": "code",
      "metadata": {
        "id": "s80avweCHIyR"
      },
      "source": [
        "#dataset=pd.read_csv('movie_feedback.csv',encoding = 'Big5',names=['feedback', 'label'] )\n",
        "X = dataset[0].values"
      ],
      "execution_count": 85,
      "outputs": []
    },
    {
      "cell_type": "code",
      "metadata": {
        "id": "APWyPi1JHIyS"
      },
      "source": [
        "corpus=[]\n",
        "row=len(X)\n",
        "for i in range(0,row):\n",
        "    review=re.sub('[^a-zA-Z]',' ',X[i])\n",
        "    review=review.lower()\n",
        "    review=review.split()\n",
        "    ps=PorterStemmer()\n",
        "    ## 這裡先不用stopwords 因為 review中很多反定詞會被移掉 如isn't good, 會變成 good\n",
        "    review=[ps.stem(word) for word in review ]\n",
        "    review=' '.join(review)\n",
        "    corpus.append(review)"
      ],
      "execution_count": 86,
      "outputs": []
    },
    {
      "cell_type": "markdown",
      "metadata": {
        "id": "EoTLKmc0HIyS"
      },
      "source": [
        "## 轉bag-of-words vector"
      ]
    },
    {
      "cell_type": "code",
      "metadata": {
        "id": "9mmR0XcWHIyS"
      },
      "source": [
        "from sklearn.feature_extraction.text import CountVectorizer\n",
        "#Creating bag of word model\n",
        "#tokenization(符號化)\n",
        "from sklearn.feature_extraction.text import CountVectorizer\n",
        "#max_features是要建造幾個column，會按造字出現的高低去篩選 \n",
        "cv = CountVectorizer(max_features=1500)\n",
        "#toarray是建造matrixs\n",
        "#X現在為sparsity就是很多零的matrix\n",
        "X_ = cv.fit_transform(corpus).toarray()\n",
        "Y_ = dataset[1].values"
      ],
      "execution_count": 87,
      "outputs": []
    },
    {
      "cell_type": "markdown",
      "metadata": {
        "id": "czm6IG6EHIyS"
      },
      "source": [
        "## 選擇練習: 將處理好數據放入 naive_bayes模型，並預測評論為正向或負面，詳細原理之後章節會解釋。"
      ]
    },
    {
      "cell_type": "markdown",
      "metadata": {
        "id": "nVHEei7THIyS"
      },
      "source": [
        "## Training"
      ]
    },
    {
      "cell_type": "code",
      "metadata": {
        "colab": {
          "base_uri": "https://localhost:8080/"
        },
        "id": "rFnzoVuxHIyS",
        "outputId": "c3b40ff4-6c32-4c64-cbb0-44313dfd097e"
      },
      "source": [
        "\n",
        "from sklearn.model_selection import train_test_split\n",
        "X_train, X_test, y_train, y_test = train_test_split(X_, Y_, test_size = 0.1)\n",
        "\n",
        "# Feature Scaling\n",
        "\n",
        "#Naive Bayes\n",
        "from sklearn.naive_bayes import GaussianNB\n",
        "classifier = GaussianNB()\n",
        "classifier.fit(X_train, y_train)\n"
      ],
      "execution_count": 88,
      "outputs": [
        {
          "output_type": "execute_result",
          "data": {
            "text/plain": [
              "GaussianNB(priors=None, var_smoothing=1e-09)"
            ]
          },
          "metadata": {
            "tags": []
          },
          "execution_count": 88
        }
      ]
    },
    {
      "cell_type": "markdown",
      "metadata": {
        "id": "TaNJbzXgHIyT"
      },
      "source": [
        "## Inference"
      ]
    },
    {
      "cell_type": "code",
      "metadata": {
        "id": "7RFUmOvuHIyT"
      },
      "source": [
        "\n",
        "message='I like this movie!!'\n",
        "## 要使用一樣的前處理\n",
        "review=re.sub('[^a-zA-Z]',' ',message)\n",
        "review=review.lower()\n",
        "review=review.split()\n",
        "ps=PorterStemmer()\n",
        "review=[ps.stem(word) for word in review]\n",
        "review = ' '.join(review)\n",
        "input_ = cv.transform([review]).toarray()\n",
        "prediction = classifier.predict(input_)\n",
        "\n"
      ],
      "execution_count": 105,
      "outputs": []
    },
    {
      "cell_type": "code",
      "metadata": {
        "colab": {
          "base_uri": "https://localhost:8080/"
        },
        "id": "jkoQYQbqHIyT",
        "outputId": "079862e4-1ce6-4f5a-86c0-bab54c4b2916"
      },
      "source": [
        "prediction ## 1代表正向評價"
      ],
      "execution_count": 106,
      "outputs": [
        {
          "output_type": "execute_result",
          "data": {
            "text/plain": [
              "array([1])"
            ]
          },
          "metadata": {
            "tags": []
          },
          "execution_count": 106
        }
      ]
    },
    {
      "cell_type": "code",
      "metadata": {
        "id": "tTTc6SzAHIyT"
      },
      "source": [
        "message='A terrible movie  !!'\n",
        "review=re.sub('[^a-zA-Z]',' ',message)\n",
        "review=review.lower()\n",
        "review=review.split()\n",
        "ps=PorterStemmer()\n",
        "review=[ps.stem(word) for word in review]\n",
        "review = ' '.join(review)\n",
        "input_ = cv.transform([review]).toarray()\n",
        "prediction = classifier.predict(input_)\n",
        "\n"
      ],
      "execution_count": 107,
      "outputs": []
    },
    {
      "cell_type": "code",
      "metadata": {
        "colab": {
          "base_uri": "https://localhost:8080/"
        },
        "id": "GGBgrkEyHIyU",
        "outputId": "c5cfca84-cb2b-4819-9641-63d99666c17e"
      },
      "source": [
        "prediction ## 0代表負面評價"
      ],
      "execution_count": 108,
      "outputs": [
        {
          "output_type": "execute_result",
          "data": {
            "text/plain": [
              "array([0])"
            ]
          },
          "metadata": {
            "tags": []
          },
          "execution_count": 108
        }
      ]
    },
    {
      "cell_type": "code",
      "metadata": {
        "id": "TSKfcggTHIyU"
      },
      "source": [
        ""
      ],
      "execution_count": 92,
      "outputs": []
    }
  ]
}